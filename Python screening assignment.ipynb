{
 "cells": [
  {
   "cell_type": "markdown",
   "id": "de854c80",
   "metadata": {},
   "source": [
    "# Ineuron Python Screening assignment"
   ]
  },
  {
   "cell_type": "markdown",
   "id": "ebd182aa",
   "metadata": {},
   "source": [
    "# Question no 1"
   ]
  },
  {
   "cell_type": "code",
   "execution_count": 24,
   "id": "d991280a",
   "metadata": {},
   "outputs": [],
   "source": [
    "from pathlib2 import Path"
   ]
  },
  {
   "cell_type": "code",
   "execution_count": 27,
   "id": "8cd75fb6",
   "metadata": {},
   "outputs": [
    {
     "name": "stdout",
     "output_type": "stream",
     "text": [
      "Text replaced\n"
     ]
    }
   ],
   "source": [
    "# Creating a function to\n",
    "# replace the text\n",
    "def replacetext(search_text, replace_text):\n",
    "    file = Path(r\"INEURON.txt\")\n",
    "    data = file.read_text()\n",
    "    data = data.replace(search_text, replace_text)\n",
    "    file.write_text(data)\n",
    "    return \"Text replaced\"\n",
    "search_text = \"placement\"\n",
    "  \n",
    "# Creating a variable and storing\n",
    "# the text that we want to update\n",
    "replace_text = \"screening\"\n",
    "print(replacetext(search_text, replace_text))"
   ]
  },
  {
   "cell_type": "markdown",
   "id": "9b6d6782",
   "metadata": {},
   "source": [
    "# Question no2. Demonstrate use of abstract class , multiple inheritance and decorator in python using examples."
   ]
  },
  {
   "cell_type": "markdown",
   "id": "c435f18f",
   "metadata": {},
   "source": [
    "# Abstract Class in python with examples"
   ]
  },
  {
   "cell_type": "markdown",
   "id": "c1621abe",
   "metadata": {},
   "source": [
    "Abstract method is a method which only has declaration and doesn't have definition. A class is called abstract class only if it has at least one abstract method. when you inherit a abstract class as a parent to the child class, the child class should define all the abstract method present in parent class. if it is not done then child class also becomes abstract class automatically. At last, python by default doesn't support abstract class and abstract method, so there is a package called ABC(abstract base classes) by which we can make a class or method abstract."
   ]
  },
  {
   "cell_type": "code",
   "execution_count": 30,
   "id": "56037d81",
   "metadata": {},
   "outputs": [],
   "source": [
    "from abc import ABC, abstractmethod\n",
    "class Shape(ABC):\n",
    "    @abstractmethod\n",
    "    def area(self): pass\n",
    "\n",
    "    @abstractmethod\n",
    "    def perimeter(self): pass\n",
    "\n",
    "class Square(Shape):\n",
    "    def __init__(self, side):\n",
    "        self.__side = side\n",
    "    def area(self):\n",
    "        return self.__side * self.__side\n",
    "    def perimeter(self):\n",
    "        return 4 * self.__side\n"
   ]
  },
  {
   "cell_type": "code",
   "execution_count": 31,
   "id": "212795e2",
   "metadata": {},
   "outputs": [
    {
     "name": "stdout",
     "output_type": "stream",
     "text": [
      " Enter the side : 7\n",
      "49.0\n",
      "28.0\n"
     ]
    }
   ],
   "source": [
    "square = Square(float(input(\" Enter the side : \")))\n",
    "print(square.area())\n",
    "print(square.perimeter())"
   ]
  },
  {
   "cell_type": "markdown",
   "id": "bea58ce6",
   "metadata": {},
   "source": [
    "# Multiple Inheritance in Python with example"
   ]
  },
  {
   "cell_type": "markdown",
   "id": "1c0198e3",
   "metadata": {},
   "source": [
    "Multiple Inheritance : When a class is derived from more than one base class it is called multiple Inheritance. The derived class inherits all the features of the base case."
   ]
  },
  {
   "cell_type": "code",
   "execution_count": 34,
   "id": "55dde7ef",
   "metadata": {},
   "outputs": [
    {
     "name": "stdout",
     "output_type": "stream",
     "text": [
      "Music,programming\n",
      "cooking,travelling\n",
      "Sports,Music\n"
     ]
    }
   ],
   "source": [
    "class Father():\n",
    "   def skills(self):\n",
    "       print(\"Music,programming\")\n",
    "\n",
    "class Mother():\n",
    "   def skills(self):\n",
    "       print(\"cooking,travelling\")\n",
    "\n",
    "class Child(Father,Mother):\n",
    "    def skills(self):\n",
    "        Father.skills(self)\n",
    "        Mother.skills(self)\n",
    "        print(\"Sports,Music\")\n",
    "\n",
    "c = Child()\n",
    "c.skills()"
   ]
  },
  {
   "cell_type": "markdown",
   "id": "2b2cce20",
   "metadata": {},
   "source": [
    "# Decorator in python using example"
   ]
  },
  {
   "cell_type": "markdown",
   "id": "cd749e7e",
   "metadata": {},
   "source": [
    "Python decorators are a very useful tool in python and used to enhance the functions and classes’ functionality and behaviour. If we want to modify the behavior of the existing function without modifying the original function, then we can use decorators to alter its behavior, and we can also wrap another function. The function is used as an argument in the decorator, and then we can call it using a wrapper function, and it returns wrapper function as a result. So we are modifying or enhancing the behavior of the function without modifying the original function."
   ]
  },
  {
   "cell_type": "code",
   "execution_count": 35,
   "id": "0c7f8d67",
   "metadata": {},
   "outputs": [
    {
     "data": {
      "text/plain": [
       "'911'"
      ]
     },
     "execution_count": 35,
     "metadata": {},
     "output_type": "execute_result"
    }
   ],
   "source": [
    "class Cellphone:\n",
    "    def __init__(self, brand, number):\n",
    "        self.brand = brand\n",
    "        self.number = number\n",
    "        \n",
    "    def get_number(self):\n",
    "        return self.number\n",
    "      \n",
    "    @staticmethod\n",
    "    def get_emergency_number():\n",
    "        return \"911\"\n",
    "      \n",
    "Cellphone.get_emergency_number()"
   ]
  },
  {
   "cell_type": "code",
   "execution_count": 37,
   "id": "d075de92",
   "metadata": {},
   "outputs": [],
   "source": [
    "#Example 2"
   ]
  },
  {
   "cell_type": "code",
   "execution_count": 36,
   "id": "365d4060",
   "metadata": {},
   "outputs": [
    {
     "name": "stdout",
     "output_type": "stream",
     "text": [
      "Hello, How are you!\n",
      "My name is Tirthankar!\n"
     ]
    }
   ],
   "source": [
    "def decorator(func):\n",
    "    def wrapper_function():\n",
    "        print(\"Hello, How are you!\")\n",
    "        func()\n",
    "    return wrapper_function\n",
    "@decorator\n",
    "def printMessage():\n",
    "    print(\"My name is Tirthankar!\")\n",
    "printMessage()"
   ]
  },
  {
   "cell_type": "code",
   "execution_count": null,
   "id": "13db05b6",
   "metadata": {},
   "outputs": [],
   "source": []
  }
 ],
 "metadata": {
  "kernelspec": {
   "display_name": "Python 3 (ipykernel)",
   "language": "python",
   "name": "python3"
  },
  "language_info": {
   "codemirror_mode": {
    "name": "ipython",
    "version": 3
   },
   "file_extension": ".py",
   "mimetype": "text/x-python",
   "name": "python",
   "nbconvert_exporter": "python",
   "pygments_lexer": "ipython3",
   "version": "3.9.7"
  }
 },
 "nbformat": 4,
 "nbformat_minor": 5
}
